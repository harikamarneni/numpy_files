{
 "cells": [
  {
   "cell_type": "code",
   "execution_count": 95,
   "id": "82f93b20",
   "metadata": {},
   "outputs": [],
   "source": [
    "import numpy as np"
   ]
  },
  {
   "cell_type": "code",
   "execution_count": 96,
   "id": "b4b08bea",
   "metadata": {},
   "outputs": [],
   "source": [
    "#1 write a program to creat a 5-dim array with all zeros and ones"
   ]
  },
  {
   "cell_type": "code",
   "execution_count": 97,
   "id": "f1fdd484",
   "metadata": {},
   "outputs": [],
   "source": [
    "y=np.array([1,1,1],ndmin=5)"
   ]
  },
  {
   "cell_type": "code",
   "execution_count": 98,
   "id": "ff3c38cc",
   "metadata": {},
   "outputs": [
    {
     "data": {
      "text/plain": [
       "array([[[[[1, 1, 1]]]]])"
      ]
     },
     "execution_count": 98,
     "metadata": {},
     "output_type": "execute_result"
    }
   ],
   "source": [
    "y"
   ]
  },
  {
   "cell_type": "code",
   "execution_count": 99,
   "id": "79d3a28a",
   "metadata": {},
   "outputs": [],
   "source": [
    "y=np.array([0,0,0,0,0],ndmin=5)"
   ]
  },
  {
   "cell_type": "code",
   "execution_count": 100,
   "id": "f0adbb59",
   "metadata": {},
   "outputs": [
    {
     "data": {
      "text/plain": [
       "array([[[[[0, 0, 0, 0, 0]]]]])"
      ]
     },
     "execution_count": 100,
     "metadata": {},
     "output_type": "execute_result"
    }
   ],
   "source": [
    "y"
   ]
  },
  {
   "cell_type": "code",
   "execution_count": 101,
   "id": "430976fe",
   "metadata": {},
   "outputs": [],
   "source": [
    "#2. write a program to creat any array of shape 10(0),10(1), and 10(5) in row 12 and 3 which creat a new array of shape(3,10)"
   ]
  },
  {
   "cell_type": "code",
   "execution_count": 102,
   "id": "e4b79697",
   "metadata": {},
   "outputs": [],
   "source": [
    "x=np.array([[np.zeros(10)],[np.ones(10)],[np.full(10,5)]])"
   ]
  },
  {
   "cell_type": "code",
   "execution_count": 103,
   "id": "0ea80ece",
   "metadata": {},
   "outputs": [
    {
     "data": {
      "text/plain": [
       "array([[[0., 0., 0., 0., 0., 0., 0., 0., 0., 0.]],\n",
       "\n",
       "       [[1., 1., 1., 1., 1., 1., 1., 1., 1., 1.]],\n",
       "\n",
       "       [[5., 5., 5., 5., 5., 5., 5., 5., 5., 5.]]])"
      ]
     },
     "execution_count": 103,
     "metadata": {},
     "output_type": "execute_result"
    }
   ],
   "source": [
    "x"
   ]
  },
  {
   "cell_type": "code",
   "execution_count": 104,
   "id": "6d0ddd9f",
   "metadata": {},
   "outputs": [
    {
     "data": {
      "text/plain": [
       "(3, 1, 10)"
      ]
     },
     "execution_count": 104,
     "metadata": {},
     "output_type": "execute_result"
    }
   ],
   "source": [
    "x.shape"
   ]
  },
  {
   "cell_type": "code",
   "execution_count": 105,
   "id": "e975e112",
   "metadata": {},
   "outputs": [],
   "source": [
    "#3.Write a program to creat a 3*4 matrix filled with values from 10 to 21"
   ]
  },
  {
   "cell_type": "code",
   "execution_count": 106,
   "id": "a6e722b6",
   "metadata": {},
   "outputs": [],
   "source": [
    "z=np.arange(10,22).reshape(3,4)"
   ]
  },
  {
   "cell_type": "code",
   "execution_count": 107,
   "id": "e529bd45",
   "metadata": {},
   "outputs": [
    {
     "data": {
      "text/plain": [
       "array([[10, 11, 12, 13],\n",
       "       [14, 15, 16, 17],\n",
       "       [18, 19, 20, 21]])"
      ]
     },
     "execution_count": 107,
     "metadata": {},
     "output_type": "execute_result"
    }
   ],
   "source": [
    "z"
   ]
  },
  {
   "cell_type": "code",
   "execution_count": 108,
   "id": "e9f681eb",
   "metadata": {},
   "outputs": [
    {
     "data": {
      "text/plain": [
       "(3, 4)"
      ]
     },
     "execution_count": 108,
     "metadata": {},
     "output_type": "execute_result"
    }
   ],
   "source": [
    "z.shape"
   ]
  },
  {
   "cell_type": "code",
   "execution_count": 109,
   "id": "b445fd90",
   "metadata": {},
   "outputs": [],
   "source": [
    "#4. write a program to creat a 10 *10 zero matrix with elements on the main diagonal equal to 0,1,2,3,4,5,6,7,8,9"
   ]
  },
  {
   "cell_type": "code",
   "execution_count": 110,
   "id": "1fae1130",
   "metadata": {},
   "outputs": [],
   "source": [
    "d=np.diag([0,1,2,3,4,5,6,7,8,9])"
   ]
  },
  {
   "cell_type": "code",
   "execution_count": 111,
   "id": "91f6d4df",
   "metadata": {},
   "outputs": [
    {
     "data": {
      "text/plain": [
       "array([[0, 0, 0, 0, 0, 0, 0, 0, 0, 0],\n",
       "       [0, 1, 0, 0, 0, 0, 0, 0, 0, 0],\n",
       "       [0, 0, 2, 0, 0, 0, 0, 0, 0, 0],\n",
       "       [0, 0, 0, 3, 0, 0, 0, 0, 0, 0],\n",
       "       [0, 0, 0, 0, 4, 0, 0, 0, 0, 0],\n",
       "       [0, 0, 0, 0, 0, 5, 0, 0, 0, 0],\n",
       "       [0, 0, 0, 0, 0, 0, 6, 0, 0, 0],\n",
       "       [0, 0, 0, 0, 0, 0, 0, 7, 0, 0],\n",
       "       [0, 0, 0, 0, 0, 0, 0, 0, 8, 0],\n",
       "       [0, 0, 0, 0, 0, 0, 0, 0, 0, 9]])"
      ]
     },
     "execution_count": 111,
     "metadata": {},
     "output_type": "execute_result"
    }
   ],
   "source": [
    "d"
   ]
  },
  {
   "cell_type": "code",
   "execution_count": 112,
   "id": "31526f8b",
   "metadata": {},
   "outputs": [
    {
     "data": {
      "text/plain": [
       "(10, 10)"
      ]
     },
     "execution_count": 112,
     "metadata": {},
     "output_type": "execute_result"
    }
   ],
   "source": [
    "d.shape"
   ]
  },
  {
   "cell_type": "code",
   "execution_count": 113,
   "id": "3ab60675",
   "metadata": {},
   "outputs": [],
   "source": [
    "#5. write a program to creat a 4*4 array by swaping first and last ,second and third columns"
   ]
  },
  {
   "cell_type": "code",
   "execution_count": 114,
   "id": "dbb5c321",
   "metadata": {},
   "outputs": [],
   "source": [
    "z=np.arange(1,17).reshape(4,4)"
   ]
  },
  {
   "cell_type": "code",
   "execution_count": 115,
   "id": "19a69ca1",
   "metadata": {},
   "outputs": [
    {
     "data": {
      "text/plain": [
       "array([[ 1,  2,  3,  4],\n",
       "       [ 5,  6,  7,  8],\n",
       "       [ 9, 10, 11, 12],\n",
       "       [13, 14, 15, 16]])"
      ]
     },
     "execution_count": 115,
     "metadata": {},
     "output_type": "execute_result"
    }
   ],
   "source": [
    "z"
   ]
  },
  {
   "cell_type": "code",
   "execution_count": 116,
   "id": "a3c12caf",
   "metadata": {},
   "outputs": [
    {
     "data": {
      "text/plain": [
       "array([[13, 14, 15, 16],\n",
       "       [ 9, 10, 11, 12],\n",
       "       [ 5,  6,  7,  8],\n",
       "       [ 1,  2,  3,  4]])"
      ]
     },
     "execution_count": 116,
     "metadata": {},
     "output_type": "execute_result"
    }
   ],
   "source": [
    "z[::-1,::]"
   ]
  },
  {
   "cell_type": "code",
   "execution_count": 117,
   "id": "6fcd926b",
   "metadata": {},
   "outputs": [],
   "source": [
    "#6.write a program to reverse an array ( the first element becomes the last)"
   ]
  },
  {
   "cell_type": "code",
   "execution_count": 118,
   "id": "c2f84c57",
   "metadata": {},
   "outputs": [],
   "source": [
    "r=np.arange(12,28)"
   ]
  },
  {
   "cell_type": "code",
   "execution_count": 119,
   "id": "5a8a9a64",
   "metadata": {},
   "outputs": [
    {
     "data": {
      "text/plain": [
       "array([12, 13, 14, 15, 16, 17, 18, 19, 20, 21, 22, 23, 24, 25, 26, 27])"
      ]
     },
     "execution_count": 119,
     "metadata": {},
     "output_type": "execute_result"
    }
   ],
   "source": [
    "r"
   ]
  },
  {
   "cell_type": "code",
   "execution_count": 120,
   "id": "230949e6",
   "metadata": {},
   "outputs": [
    {
     "data": {
      "text/plain": [
       "array([27, 26, 25, 24, 23, 22, 21, 20, 19, 18, 17, 16, 15, 14, 13, 12])"
      ]
     },
     "execution_count": 120,
     "metadata": {},
     "output_type": "execute_result"
    }
   ],
   "source": [
    "r[::-1]"
   ]
  },
  {
   "cell_type": "code",
   "execution_count": 121,
   "id": "e350c4c9",
   "metadata": {},
   "outputs": [],
   "source": [
    "#7. write a program to access all elements >30 and <80 and multiples of 5 from an array of shape 10*10.\n",
    "# elements range from 1 to 100"
   ]
  },
  {
   "cell_type": "code",
   "execution_count": 122,
   "id": "d1df4bb2",
   "metadata": {},
   "outputs": [],
   "source": [
    "a=np.arange(1,101).reshape(10,10)\n"
   ]
  },
  {
   "cell_type": "code",
   "execution_count": 123,
   "id": "aeb1e8aa",
   "metadata": {},
   "outputs": [],
   "source": [
    "b=a[(a>30) & (a<80) & (a%5==0)]"
   ]
  },
  {
   "cell_type": "code",
   "execution_count": 124,
   "id": "7ee89a32",
   "metadata": {},
   "outputs": [
    {
     "data": {
      "text/plain": [
       "array([35, 40, 45, 50, 55, 60, 65, 70, 75])"
      ]
     },
     "execution_count": 124,
     "metadata": {},
     "output_type": "execute_result"
    }
   ],
   "source": [
    "b"
   ]
  },
  {
   "cell_type": "code",
   "execution_count": 125,
   "id": "dfc0b946",
   "metadata": {},
   "outputs": [],
   "source": [
    "#8.write a program to creat a 2d array with 1 on the border and 0 inside."
   ]
  },
  {
   "cell_type": "code",
   "execution_count": 126,
   "id": "65945b15",
   "metadata": {},
   "outputs": [
    {
     "data": {
      "text/plain": [
       "array([[1, 1, 1],\n",
       "       [1, 0, 1],\n",
       "       [1, 1, 1]])"
      ]
     },
     "execution_count": 126,
     "metadata": {},
     "output_type": "execute_result"
    }
   ],
   "source": [
    "np.array([[1,1,1],[1,0,1],[1,1,1]])"
   ]
  },
  {
   "cell_type": "code",
   "execution_count": 127,
   "id": "50bbad26",
   "metadata": {},
   "outputs": [],
   "source": [
    "#9. write a program to creat a checkerboard pattern. dont use default array function."
   ]
  },
  {
   "cell_type": "code",
   "execution_count": 128,
   "id": "9fe25c7d",
   "metadata": {},
   "outputs": [
    {
     "name": "stdout",
     "output_type": "stream",
     "text": [
      "checkerboard: \n",
      "\n"
     ]
    }
   ],
   "source": [
    "print(\"checkerboard: \\n\")\n",
    "c=np.ones((8,8),dtype=int)"
   ]
  },
  {
   "cell_type": "code",
   "execution_count": 129,
   "id": "98f3021e",
   "metadata": {},
   "outputs": [
    {
     "data": {
      "text/plain": [
       "array([[1, 1, 1, 1, 1, 1, 1, 1],\n",
       "       [1, 1, 1, 1, 1, 1, 1, 1],\n",
       "       [1, 1, 1, 1, 1, 1, 1, 1],\n",
       "       [1, 1, 1, 1, 1, 1, 1, 1],\n",
       "       [1, 1, 1, 1, 1, 1, 1, 1],\n",
       "       [1, 1, 1, 1, 1, 1, 1, 1],\n",
       "       [1, 1, 1, 1, 1, 1, 1, 1],\n",
       "       [1, 1, 1, 1, 1, 1, 1, 1]])"
      ]
     },
     "execution_count": 129,
     "metadata": {},
     "output_type": "execute_result"
    }
   ],
   "source": [
    "c"
   ]
  },
  {
   "cell_type": "code",
   "execution_count": 130,
   "id": "5a7b61e2",
   "metadata": {},
   "outputs": [],
   "source": [
    "c[1::2,::2]=0\n",
    "c[::2,1::2]=0"
   ]
  },
  {
   "cell_type": "code",
   "execution_count": 131,
   "id": "6e1bde90",
   "metadata": {},
   "outputs": [
    {
     "data": {
      "text/plain": [
       "array([[1, 0, 1, 0, 1, 0, 1, 0],\n",
       "       [0, 1, 0, 1, 0, 1, 0, 1],\n",
       "       [1, 0, 1, 0, 1, 0, 1, 0],\n",
       "       [0, 1, 0, 1, 0, 1, 0, 1],\n",
       "       [1, 0, 1, 0, 1, 0, 1, 0],\n",
       "       [0, 1, 0, 1, 0, 1, 0, 1],\n",
       "       [1, 0, 1, 0, 1, 0, 1, 0],\n",
       "       [0, 1, 0, 1, 0, 1, 0, 1]])"
      ]
     },
     "execution_count": 131,
     "metadata": {},
     "output_type": "execute_result"
    }
   ],
   "source": [
    "c"
   ]
  },
  {
   "cell_type": "code",
   "execution_count": 132,
   "id": "172b0d47",
   "metadata": {},
   "outputs": [],
   "source": [
    "#10.Write a program to find common values between two arrays."
   ]
  },
  {
   "cell_type": "code",
   "execution_count": 133,
   "id": "05008103",
   "metadata": {},
   "outputs": [
    {
     "data": {
      "text/plain": [
       "array([10, 40])"
      ]
     },
     "execution_count": 133,
     "metadata": {},
     "output_type": "execute_result"
    }
   ],
   "source": [
    "i=0\n",
    "a1=np.array([10,20,40,60])\n",
    "a2=np.array([10,30,40,50])\n",
    "np.intersect1d(a2,a1)\n"
   ]
  },
  {
   "cell_type": "code",
   "execution_count": 134,
   "id": "c89b6ae3",
   "metadata": {},
   "outputs": [],
   "source": [
    "#11. write a program to creat an 2d array and then reshape into 1d array"
   ]
  },
  {
   "cell_type": "code",
   "execution_count": 135,
   "id": "439a4fa8",
   "metadata": {},
   "outputs": [],
   "source": [
    "x=np.arange(1,5).reshape(2,2)"
   ]
  },
  {
   "cell_type": "code",
   "execution_count": 136,
   "id": "e4f0f076",
   "metadata": {},
   "outputs": [
    {
     "data": {
      "text/plain": [
       "array([[1, 2],\n",
       "       [3, 4]])"
      ]
     },
     "execution_count": 136,
     "metadata": {},
     "output_type": "execute_result"
    }
   ],
   "source": [
    "x"
   ]
  },
  {
   "cell_type": "code",
   "execution_count": 137,
   "id": "ef22acae",
   "metadata": {},
   "outputs": [
    {
     "data": {
      "text/plain": [
       "array([1, 2, 3, 4])"
      ]
     },
     "execution_count": 137,
     "metadata": {},
     "output_type": "execute_result"
    }
   ],
   "source": [
    "x.flatten()"
   ]
  },
  {
   "cell_type": "code",
   "execution_count": 138,
   "id": "15b3c2c1",
   "metadata": {},
   "outputs": [],
   "source": [
    "#12. Write a user defined function for creating a 1d or 2d array from scratch with out using array function"
   ]
  },
  {
   "cell_type": "code",
   "execution_count": 141,
   "id": "7e983aa6",
   "metadata": {},
   "outputs": [
    {
     "name": "stdout",
     "output_type": "stream",
     "text": [
      "enter no of elements: 5\n",
      "enter the element: 1\n",
      "enter the element: 2\n",
      "enter the element: 3\n",
      "enter the element: 4\n",
      "enter the element: 5\n",
      "['1', '2', '3', '4', '5']\n",
      "enter the dimention: 2\n",
      "array([[1]\n",
      "[2]\n",
      "])\n",
      "[3]\n",
      "])\n",
      "[4]\n",
      "])\n"
     ]
    }
   ],
   "source": [
    "def array_2d(x):\n",
    "    n=int(input(\"enter the dimention: \"))\n",
    "    s=len(x)\n",
    "    if n==1:\n",
    "        print(\"array({})\".format(x))\n",
    "    elif n==2:\n",
    "        print(\"array([\",end=\"\")\n",
    "        print(\"[{}]\".format(x[0]))\n",
    "        for y in range(1,s-1):\n",
    "            print(\"[{}]\".format(x[y]))\n",
    "            print(\"])\")\n",
    "l=[]\n",
    "\n",
    "t=int(input(\"enter no of elements: \"))\n",
    "for i in range(t):\n",
    "    a=input(\"enter the element: \")\n",
    "    l.append(a)\n",
    "print(l)\n",
    "array_2d(l)"
   ]
  },
  {
   "cell_type": "code",
   "execution_count": null,
   "id": "ee5e819c",
   "metadata": {},
   "outputs": [],
   "source": []
  },
  {
   "cell_type": "code",
   "execution_count": null,
   "id": "9f572fb1",
   "metadata": {},
   "outputs": [],
   "source": []
  }
 ],
 "metadata": {
  "kernelspec": {
   "display_name": "Python 3 (ipykernel)",
   "language": "python",
   "name": "python3"
  },
  "language_info": {
   "codemirror_mode": {
    "name": "ipython",
    "version": 3
   },
   "file_extension": ".py",
   "mimetype": "text/x-python",
   "name": "python",
   "nbconvert_exporter": "python",
   "pygments_lexer": "ipython3",
   "version": "3.11.3"
  }
 },
 "nbformat": 4,
 "nbformat_minor": 5
}
