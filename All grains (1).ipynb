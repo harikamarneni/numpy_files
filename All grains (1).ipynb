{
 "cells": [
  {
   "cell_type": "code",
   "execution_count": 1,
   "id": "dcec4001",
   "metadata": {},
   "outputs": [],
   "source": [
    "import pandas as pd\n",
    "import numpy as np\n"
   ]
  },
  {
   "cell_type": "code",
   "execution_count": 2,
   "id": "5df09635",
   "metadata": {},
   "outputs": [],
   "source": [
    "data=pd.read_csv(r\"C:\\Users\\GOPI\\Downloads\\all_grains_data.csv\")"
   ]
  },
  {
   "cell_type": "code",
   "execution_count": 3,
   "id": "d5dbe502",
   "metadata": {},
   "outputs": [
    {
     "name": "stdout",
     "output_type": "stream",
     "text": [
      "<class 'pandas.core.frame.DataFrame'>\n",
      "RangeIndex: 34883 entries, 0 to 34882\n",
      "Data columns (total 8 columns):\n",
      " #   Column     Non-Null Count  Dtype  \n",
      "---  ------     --------------  -----  \n",
      " 0   ticker     34883 non-null  object \n",
      " 1   commodity  34883 non-null  object \n",
      " 2   date       34883 non-null  object \n",
      " 3   open       34883 non-null  float64\n",
      " 4   high       34883 non-null  float64\n",
      " 5   low        34883 non-null  float64\n",
      " 6   close      34883 non-null  float64\n",
      " 7   volume     34883 non-null  int64  \n",
      "dtypes: float64(4), int64(1), object(3)\n",
      "memory usage: 2.1+ MB\n"
     ]
    }
   ],
   "source": [
    "data.info()"
   ]
  },
  {
   "cell_type": "code",
   "execution_count": 5,
   "id": "2e00b574",
   "metadata": {},
   "outputs": [
    {
     "data": {
      "text/html": [
       "<div>\n",
       "<style scoped>\n",
       "    .dataframe tbody tr th:only-of-type {\n",
       "        vertical-align: middle;\n",
       "    }\n",
       "\n",
       "    .dataframe tbody tr th {\n",
       "        vertical-align: top;\n",
       "    }\n",
       "\n",
       "    .dataframe thead th {\n",
       "        text-align: right;\n",
       "    }\n",
       "</style>\n",
       "<table border=\"1\" class=\"dataframe\">\n",
       "  <thead>\n",
       "    <tr style=\"text-align: right;\">\n",
       "      <th></th>\n",
       "      <th>ticker</th>\n",
       "      <th>commodity</th>\n",
       "      <th>date</th>\n",
       "      <th>open</th>\n",
       "      <th>high</th>\n",
       "      <th>low</th>\n",
       "      <th>close</th>\n",
       "      <th>volume</th>\n",
       "    </tr>\n",
       "  </thead>\n",
       "  <tbody>\n",
       "    <tr>\n",
       "      <th>0</th>\n",
       "      <td>ZC=F</td>\n",
       "      <td>Corn</td>\n",
       "      <td>2000-07-17</td>\n",
       "      <td>182.25</td>\n",
       "      <td>182.25</td>\n",
       "      <td>178.25</td>\n",
       "      <td>179.25</td>\n",
       "      <td>19385</td>\n",
       "    </tr>\n",
       "    <tr>\n",
       "      <th>1</th>\n",
       "      <td>ZC=F</td>\n",
       "      <td>Corn</td>\n",
       "      <td>2000-07-18</td>\n",
       "      <td>179.00</td>\n",
       "      <td>183.25</td>\n",
       "      <td>179.00</td>\n",
       "      <td>180.75</td>\n",
       "      <td>25205</td>\n",
       "    </tr>\n",
       "    <tr>\n",
       "      <th>2</th>\n",
       "      <td>ZC=F</td>\n",
       "      <td>Corn</td>\n",
       "      <td>2000-07-19</td>\n",
       "      <td>180.00</td>\n",
       "      <td>182.75</td>\n",
       "      <td>178.75</td>\n",
       "      <td>182.00</td>\n",
       "      <td>17126</td>\n",
       "    </tr>\n",
       "    <tr>\n",
       "      <th>3</th>\n",
       "      <td>ZC=F</td>\n",
       "      <td>Corn</td>\n",
       "      <td>2000-07-20</td>\n",
       "      <td>181.50</td>\n",
       "      <td>187.00</td>\n",
       "      <td>181.00</td>\n",
       "      <td>186.00</td>\n",
       "      <td>18742</td>\n",
       "    </tr>\n",
       "    <tr>\n",
       "      <th>4</th>\n",
       "      <td>ZC=F</td>\n",
       "      <td>Corn</td>\n",
       "      <td>2000-07-21</td>\n",
       "      <td>185.50</td>\n",
       "      <td>188.00</td>\n",
       "      <td>185.00</td>\n",
       "      <td>187.75</td>\n",
       "      <td>16814</td>\n",
       "    </tr>\n",
       "  </tbody>\n",
       "</table>\n",
       "</div>"
      ],
      "text/plain": [
       "  ticker commodity        date    open    high     low   close  volume\n",
       "0   ZC=F      Corn  2000-07-17  182.25  182.25  178.25  179.25   19385\n",
       "1   ZC=F      Corn  2000-07-18  179.00  183.25  179.00  180.75   25205\n",
       "2   ZC=F      Corn  2000-07-19  180.00  182.75  178.75  182.00   17126\n",
       "3   ZC=F      Corn  2000-07-20  181.50  187.00  181.00  186.00   18742\n",
       "4   ZC=F      Corn  2000-07-21  185.50  188.00  185.00  187.75   16814"
      ]
     },
     "execution_count": 5,
     "metadata": {},
     "output_type": "execute_result"
    }
   ],
   "source": [
    "data.head()"
   ]
  },
  {
   "cell_type": "code",
   "execution_count": 73,
   "id": "94305662",
   "metadata": {},
   "outputs": [],
   "source": [
    "#1.Which commodity was having the highest opening price for the day.\n",
    "g=data.groupby(\"commodity\")\n"
   ]
  },
  {
   "cell_type": "code",
   "execution_count": 77,
   "id": "5333e2ec",
   "metadata": {},
   "outputs": [
    {
     "data": {
      "text/html": [
       "<div>\n",
       "<style scoped>\n",
       "    .dataframe tbody tr th:only-of-type {\n",
       "        vertical-align: middle;\n",
       "    }\n",
       "\n",
       "    .dataframe tbody tr th {\n",
       "        vertical-align: top;\n",
       "    }\n",
       "\n",
       "    .dataframe thead th {\n",
       "        text-align: right;\n",
       "    }\n",
       "</style>\n",
       "<table border=\"1\" class=\"dataframe\">\n",
       "  <thead>\n",
       "    <tr style=\"text-align: right;\">\n",
       "      <th></th>\n",
       "      <th>open</th>\n",
       "      <th>date</th>\n",
       "    </tr>\n",
       "    <tr>\n",
       "      <th>commodity</th>\n",
       "      <th></th>\n",
       "      <th></th>\n",
       "    </tr>\n",
       "  </thead>\n",
       "  <tbody>\n",
       "    <tr>\n",
       "      <th>Corn</th>\n",
       "      <td>830.25</td>\n",
       "      <td>2023-09-15</td>\n",
       "    </tr>\n",
       "    <tr>\n",
       "      <th>KC HRW Wheat</th>\n",
       "      <td>1370.50</td>\n",
       "      <td>2023-09-15</td>\n",
       "    </tr>\n",
       "    <tr>\n",
       "      <th>Oat</th>\n",
       "      <td>803.00</td>\n",
       "      <td>2023-09-15</td>\n",
       "    </tr>\n",
       "    <tr>\n",
       "      <th>Rough Rice</th>\n",
       "      <td>2435.00</td>\n",
       "      <td>2023-09-15</td>\n",
       "    </tr>\n",
       "    <tr>\n",
       "      <th>Soybean</th>\n",
       "      <td>1778.50</td>\n",
       "      <td>2023-09-15</td>\n",
       "    </tr>\n",
       "    <tr>\n",
       "      <th>Soybean Oil</th>\n",
       "      <td>90.50</td>\n",
       "      <td>2023-09-15</td>\n",
       "    </tr>\n",
       "  </tbody>\n",
       "</table>\n",
       "</div>"
      ],
      "text/plain": [
       "                 open        date\n",
       "commodity                        \n",
       "Corn           830.25  2023-09-15\n",
       "KC HRW Wheat  1370.50  2023-09-15\n",
       "Oat            803.00  2023-09-15\n",
       "Rough Rice    2435.00  2023-09-15\n",
       "Soybean       1778.50  2023-09-15\n",
       "Soybean Oil     90.50  2023-09-15"
      ]
     },
     "execution_count": 77,
     "metadata": {},
     "output_type": "execute_result"
    }
   ],
   "source": [
    "g[[\"open\",\"date\"]].max()"
   ]
  },
  {
   "cell_type": "code",
   "execution_count": 79,
   "id": "8eb8a56e",
   "metadata": {},
   "outputs": [
    {
     "data": {
      "text/html": [
       "<div>\n",
       "<style scoped>\n",
       "    .dataframe tbody tr th:only-of-type {\n",
       "        vertical-align: middle;\n",
       "    }\n",
       "\n",
       "    .dataframe tbody tr th {\n",
       "        vertical-align: top;\n",
       "    }\n",
       "\n",
       "    .dataframe thead th {\n",
       "        text-align: right;\n",
       "    }\n",
       "</style>\n",
       "<table border=\"1\" class=\"dataframe\">\n",
       "  <thead>\n",
       "    <tr style=\"text-align: right;\">\n",
       "      <th></th>\n",
       "      <th>open</th>\n",
       "      <th>close</th>\n",
       "    </tr>\n",
       "    <tr>\n",
       "      <th>commodity</th>\n",
       "      <th></th>\n",
       "      <th></th>\n",
       "    </tr>\n",
       "  </thead>\n",
       "  <tbody>\n",
       "    <tr>\n",
       "      <th>Corn</th>\n",
       "      <td>830.25</td>\n",
       "      <td>831.250000</td>\n",
       "    </tr>\n",
       "    <tr>\n",
       "      <th>KC HRW Wheat</th>\n",
       "      <td>1370.50</td>\n",
       "      <td>1367.750000</td>\n",
       "    </tr>\n",
       "    <tr>\n",
       "      <th>Oat</th>\n",
       "      <td>803.00</td>\n",
       "      <td>807.000000</td>\n",
       "    </tr>\n",
       "    <tr>\n",
       "      <th>Rough Rice</th>\n",
       "      <td>2435.00</td>\n",
       "      <td>2446.000000</td>\n",
       "    </tr>\n",
       "    <tr>\n",
       "      <th>Soybean</th>\n",
       "      <td>1778.50</td>\n",
       "      <td>1771.000000</td>\n",
       "    </tr>\n",
       "    <tr>\n",
       "      <th>Soybean Oil</th>\n",
       "      <td>90.50</td>\n",
       "      <td>90.599998</td>\n",
       "    </tr>\n",
       "  </tbody>\n",
       "</table>\n",
       "</div>"
      ],
      "text/plain": [
       "                 open        close\n",
       "commodity                         \n",
       "Corn           830.25   831.250000\n",
       "KC HRW Wheat  1370.50  1367.750000\n",
       "Oat            803.00   807.000000\n",
       "Rough Rice    2435.00  2446.000000\n",
       "Soybean       1778.50  1771.000000\n",
       "Soybean Oil     90.50    90.599998"
      ]
     },
     "execution_count": 79,
     "metadata": {},
     "output_type": "execute_result"
    }
   ],
   "source": [
    "#2 Which commodity price reached  maximum during the trading session.\n",
    "g[[\"open\",\"close\"]].max()"
   ]
  },
  {
   "cell_type": "code",
   "execution_count": 82,
   "id": "f65c123d",
   "metadata": {},
   "outputs": [
    {
     "data": {
      "text/plain": [
       "open    NaN\n",
       "close   NaN\n",
       "dtype: float64"
      ]
     },
     "execution_count": 82,
     "metadata": {},
     "output_type": "execute_result"
    }
   ],
   "source": [
    "data.loc[data[\"commodity\"]==\"corn\",[\"open\",\"close\"]].max()"
   ]
  },
  {
   "cell_type": "code",
   "execution_count": 81,
   "id": "54b277b0",
   "metadata": {},
   "outputs": [
    {
     "data": {
      "text/plain": [
       "open     803.0\n",
       "close    807.0\n",
       "dtype: float64"
      ]
     },
     "execution_count": 81,
     "metadata": {},
     "output_type": "execute_result"
    }
   ],
   "source": [
    "data.loc[data[\"commodity\"]==\"Oat\",[\"open\",\"close\"]].max()"
   ]
  },
  {
   "cell_type": "code",
   "execution_count": 60,
   "id": "fa1cf997",
   "metadata": {},
   "outputs": [
    {
     "data": {
      "text/plain": [
       "open     1370.50\n",
       "close    1367.75\n",
       "dtype: float64"
      ]
     },
     "execution_count": 60,
     "metadata": {},
     "output_type": "execute_result"
    }
   ],
   "source": [
    "data.loc[data[\"commodity\"]==\"KC HRW Wheat\",[\"open\",\"close\"]].max()"
   ]
  },
  {
   "cell_type": "code",
   "execution_count": 61,
   "id": "35c24ea4",
   "metadata": {},
   "outputs": [
    {
     "data": {
      "text/plain": [
       "open     2435.0\n",
       "close    2446.0\n",
       "dtype: float64"
      ]
     },
     "execution_count": 61,
     "metadata": {},
     "output_type": "execute_result"
    }
   ],
   "source": [
    "data.loc[data[\"commodity\"]==\"Rough Rice\",[\"open\",\"close\"]].max()"
   ]
  },
  {
   "cell_type": "code",
   "execution_count": 62,
   "id": "e7ba4ad4",
   "metadata": {},
   "outputs": [
    {
     "data": {
      "text/plain": [
       "open     90.500000\n",
       "close    90.599998\n",
       "dtype: float64"
      ]
     },
     "execution_count": 62,
     "metadata": {},
     "output_type": "execute_result"
    }
   ],
   "source": [
    "data.loc[data[\"commodity\"]==\"Soybean Oil\",[\"open\",\"close\"]].max()"
   ]
  },
  {
   "cell_type": "code",
   "execution_count": 63,
   "id": "8cb0654b",
   "metadata": {},
   "outputs": [
    {
     "data": {
      "text/plain": [
       "open     1778.5\n",
       "close    1771.0\n",
       "dtype: float64"
      ]
     },
     "execution_count": 63,
     "metadata": {},
     "output_type": "execute_result"
    }
   ],
   "source": [
    "data.loc[data[\"commodity\"]==\"Soybean\",[\"open\",\"close\"]].max()"
   ]
  },
  {
   "cell_type": "code",
   "execution_count": 57,
   "id": "b79ffa44",
   "metadata": {},
   "outputs": [
    {
     "data": {
      "text/plain": [
       "278.8970206131994"
      ]
     },
     "execution_count": 57,
     "metadata": {},
     "output_type": "execute_result"
    }
   ],
   "source": [
    "#3.What is the average Market's opening price for the Oat in 2010\n",
    "data.loc[data[\"commodity\"]==\"Oat\",\"open\"].mean()"
   ]
  },
  {
   "cell_type": "code",
   "execution_count": 84,
   "id": "1e94f29d",
   "metadata": {},
   "outputs": [],
   "source": [
    "g=data.groupby(\"commodity\")"
   ]
  },
  {
   "cell_type": "code",
   "execution_count": 85,
   "id": "82d786aa",
   "metadata": {},
   "outputs": [
    {
     "data": {
      "text/plain": [
       "commodity\n",
       "Corn             409.282059\n",
       "KC HRW Wheat     563.985475\n",
       "Oat              278.897021\n",
       "Rough Rice      1143.643069\n",
       "Soybean          997.618605\n",
       "Soybean Oil       36.837337\n",
       "Name: open, dtype: float64"
      ]
     },
     "execution_count": 85,
     "metadata": {},
     "output_type": "execute_result"
    }
   ],
   "source": [
    "g[\"open\"].mean()"
   ]
  },
  {
   "cell_type": "code",
   "execution_count": 56,
   "id": "ddd932ec",
   "metadata": {},
   "outputs": [
    {
     "data": {
      "text/plain": [
       "ticker       NaN\n",
       "commodity    NaN\n",
       "date         NaN\n",
       "open         NaN\n",
       "high         NaN\n",
       "low          NaN\n",
       "close        NaN\n",
       "volume       NaN\n",
       "dtype: object"
      ]
     },
     "execution_count": 56,
     "metadata": {},
     "output_type": "execute_result"
    }
   ],
   "source": [
    "#4.What is the maximum and minimum Number of contracts traded during the 2009 \n",
    "data.loc[data[\"open\"]==data[\"date\"].max()].max()"
   ]
  },
  {
   "cell_type": "code",
   "execution_count": 86,
   "id": "95cd01ec",
   "metadata": {},
   "outputs": [],
   "source": [
    "g=data.groupby(\"ticker\")"
   ]
  },
  {
   "cell_type": "code",
   "execution_count": 94,
   "id": "baf901d0",
   "metadata": {},
   "outputs": [
    {
     "ename": "KeyError",
     "evalue": "'Columns not found: False'",
     "output_type": "error",
     "traceback": [
      "\u001b[1;31m---------------------------------------------------------------------------\u001b[0m",
      "\u001b[1;31mKeyError\u001b[0m                                  Traceback (most recent call last)",
      "Cell \u001b[1;32mIn[94], line 1\u001b[0m\n\u001b[1;32m----> 1\u001b[0m g[\u001b[38;5;124m\"\u001b[39m\u001b[38;5;124mdate\u001b[39m\u001b[38;5;124m\"\u001b[39m\u001b[38;5;241m==\u001b[39mpd\u001b[38;5;241m.\u001b[39mdate_range(\u001b[38;5;124m\"\u001b[39m\u001b[38;5;124m1-1-2009\u001b[39m\u001b[38;5;124m\"\u001b[39m,\u001b[38;5;124m\"\u001b[39m\u001b[38;5;124m1-1-2010\u001b[39m\u001b[38;5;124m\"\u001b[39m,freq\u001b[38;5;241m=\u001b[39m\u001b[38;5;124m\"\u001b[39m\u001b[38;5;124md\u001b[39m\u001b[38;5;124m\"\u001b[39m)]\u001b[38;5;241m.\u001b[39mmax()\n",
      "File \u001b[1;32mC:\\ProgramData\\anaconda3\\Lib\\site-packages\\pandas\\core\\groupby\\generic.py:1416\u001b[0m, in \u001b[0;36mDataFrameGroupBy.__getitem__\u001b[1;34m(self, key)\u001b[0m\n\u001b[0;32m   1407\u001b[0m \u001b[38;5;28;01mif\u001b[39;00m \u001b[38;5;28misinstance\u001b[39m(key, \u001b[38;5;28mtuple\u001b[39m) \u001b[38;5;129;01mand\u001b[39;00m \u001b[38;5;28mlen\u001b[39m(key) \u001b[38;5;241m>\u001b[39m \u001b[38;5;241m1\u001b[39m:\n\u001b[0;32m   1408\u001b[0m     \u001b[38;5;66;03m# if len == 1, then it becomes a SeriesGroupBy and this is actually\u001b[39;00m\n\u001b[0;32m   1409\u001b[0m     \u001b[38;5;66;03m# valid syntax, so don't raise warning\u001b[39;00m\n\u001b[0;32m   1410\u001b[0m     warnings\u001b[38;5;241m.\u001b[39mwarn(\n\u001b[0;32m   1411\u001b[0m         \u001b[38;5;124m\"\u001b[39m\u001b[38;5;124mIndexing with multiple keys (implicitly converted to a tuple \u001b[39m\u001b[38;5;124m\"\u001b[39m\n\u001b[0;32m   1412\u001b[0m         \u001b[38;5;124m\"\u001b[39m\u001b[38;5;124mof keys) will be deprecated, use a list instead.\u001b[39m\u001b[38;5;124m\"\u001b[39m,\n\u001b[0;32m   1413\u001b[0m         \u001b[38;5;167;01mFutureWarning\u001b[39;00m,\n\u001b[0;32m   1414\u001b[0m         stacklevel\u001b[38;5;241m=\u001b[39mfind_stack_level(),\n\u001b[0;32m   1415\u001b[0m     )\n\u001b[1;32m-> 1416\u001b[0m \u001b[38;5;28;01mreturn\u001b[39;00m \u001b[38;5;28msuper\u001b[39m()\u001b[38;5;241m.\u001b[39m\u001b[38;5;21m__getitem__\u001b[39m(key)\n",
      "File \u001b[1;32mC:\\ProgramData\\anaconda3\\Lib\\site-packages\\pandas\\core\\base.py:238\u001b[0m, in \u001b[0;36mSelectionMixin.__getitem__\u001b[1;34m(self, key)\u001b[0m\n\u001b[0;32m    236\u001b[0m     \u001b[38;5;28;01mif\u001b[39;00m \u001b[38;5;28mlen\u001b[39m(\u001b[38;5;28mself\u001b[39m\u001b[38;5;241m.\u001b[39mobj\u001b[38;5;241m.\u001b[39mcolumns\u001b[38;5;241m.\u001b[39mintersection(key)) \u001b[38;5;241m!=\u001b[39m \u001b[38;5;28mlen\u001b[39m(\u001b[38;5;28mset\u001b[39m(key)):\n\u001b[0;32m    237\u001b[0m         bad_keys \u001b[38;5;241m=\u001b[39m \u001b[38;5;28mlist\u001b[39m(\u001b[38;5;28mset\u001b[39m(key)\u001b[38;5;241m.\u001b[39mdifference(\u001b[38;5;28mself\u001b[39m\u001b[38;5;241m.\u001b[39mobj\u001b[38;5;241m.\u001b[39mcolumns))\n\u001b[1;32m--> 238\u001b[0m         \u001b[38;5;28;01mraise\u001b[39;00m \u001b[38;5;167;01mKeyError\u001b[39;00m(\u001b[38;5;124mf\u001b[39m\u001b[38;5;124m\"\u001b[39m\u001b[38;5;124mColumns not found: \u001b[39m\u001b[38;5;132;01m{\u001b[39;00m\u001b[38;5;28mstr\u001b[39m(bad_keys)[\u001b[38;5;241m1\u001b[39m:\u001b[38;5;241m-\u001b[39m\u001b[38;5;241m1\u001b[39m]\u001b[38;5;132;01m}\u001b[39;00m\u001b[38;5;124m\"\u001b[39m)\n\u001b[0;32m    239\u001b[0m     \u001b[38;5;28;01mreturn\u001b[39;00m \u001b[38;5;28mself\u001b[39m\u001b[38;5;241m.\u001b[39m_gotitem(\u001b[38;5;28mlist\u001b[39m(key), ndim\u001b[38;5;241m=\u001b[39m\u001b[38;5;241m2\u001b[39m)\n\u001b[0;32m    241\u001b[0m \u001b[38;5;28;01melif\u001b[39;00m \u001b[38;5;129;01mnot\u001b[39;00m \u001b[38;5;28mgetattr\u001b[39m(\u001b[38;5;28mself\u001b[39m, \u001b[38;5;124m\"\u001b[39m\u001b[38;5;124mas_index\u001b[39m\u001b[38;5;124m\"\u001b[39m, \u001b[38;5;28;01mFalse\u001b[39;00m):\n",
      "\u001b[1;31mKeyError\u001b[0m: 'Columns not found: False'"
     ]
    }
   ],
   "source": [
    "g[\"date\"==pd.date_range(\"1-1-2009\",\"1-1-2010\",freq=\"d\")].max()"
   ]
  },
  {
   "cell_type": "code",
   "execution_count": 88,
   "id": "190cd727",
   "metadata": {},
   "outputs": [
    {
     "data": {
      "text/plain": [
       "ticker\n",
       "KE=F    2000-09-21\n",
       "ZC=F    2000-07-17\n",
       "ZL=F    2000-03-15\n",
       "ZO=F    2000-01-03\n",
       "ZR=F    2000-01-03\n",
       "ZS=F    2000-09-15\n",
       "Name: date, dtype: object"
      ]
     },
     "execution_count": 88,
     "metadata": {},
     "output_type": "execute_result"
    }
   ],
   "source": [
    "g[\"date\"].min()"
   ]
  },
  {
   "cell_type": "code",
   "execution_count": 31,
   "id": "f28eb0b1",
   "metadata": {},
   "outputs": [
    {
     "data": {
      "text/plain": [
       "ticker       NaN\n",
       "commodity    NaN\n",
       "date         NaN\n",
       "open         NaN\n",
       "high         NaN\n",
       "low          NaN\n",
       "close        NaN\n",
       "volume       NaN\n",
       "dtype: object"
      ]
     },
     "execution_count": 31,
     "metadata": {},
     "output_type": "execute_result"
    }
   ],
   "source": [
    "data.loc[data[\"open\"]==data[\"date\"]].min()"
   ]
  },
  {
   "cell_type": "code",
   "execution_count": 51,
   "id": "c527fd9a",
   "metadata": {},
   "outputs": [
    {
     "data": {
      "text/plain": [
       "date    NaN\n",
       "dtype: object"
      ]
     },
     "execution_count": 51,
     "metadata": {},
     "output_type": "execute_result"
    }
   ],
   "source": [
    "#5. Which year have  maximum and minimum Number of contracts traded\n",
    "data.loc[data[\"date\"]==data[\"open\"],[\"date\"]].max()"
   ]
  },
  {
   "cell_type": "code",
   "execution_count": 52,
   "id": "42d2c142",
   "metadata": {},
   "outputs": [
    {
     "data": {
      "text/plain": [
       "date    NaN\n",
       "dtype: object"
      ]
     },
     "execution_count": 52,
     "metadata": {},
     "output_type": "execute_result"
    }
   ],
   "source": [
    "data.loc[data[\"date\"]==data[\"open\"],[\"date\"]].min()"
   ]
  },
  {
   "cell_type": "code",
   "execution_count": 89,
   "id": "f9fa3a98",
   "metadata": {},
   "outputs": [],
   "source": [
    "g=data.groupby(\"ticker\")"
   ]
  },
  {
   "cell_type": "code",
   "execution_count": 99,
   "id": "d4dc1112",
   "metadata": {},
   "outputs": [
    {
     "data": {
      "text/plain": [
       "ticker\n",
       "KE=F    5783\n",
       "ZC=F    5794\n",
       "ZL=F    5810\n",
       "ZO=F    5773\n",
       "ZR=F    5937\n",
       "ZS=F    5786\n",
       "Name: ticker, dtype: int64"
      ]
     },
     "execution_count": 99,
     "metadata": {},
     "output_type": "execute_result"
    }
   ],
   "source": [
    "g[\"ticker\"].count()"
   ]
  },
  {
   "cell_type": "code",
   "execution_count": 97,
   "id": "cb5e53c3",
   "metadata": {},
   "outputs": [
    {
     "data": {
      "text/plain": [
       "5937"
      ]
     },
     "execution_count": 97,
     "metadata": {},
     "output_type": "execute_result"
    }
   ],
   "source": [
    "(g[\"ticker\"].count()).max()"
   ]
  },
  {
   "cell_type": "code",
   "execution_count": 98,
   "id": "600eed40",
   "metadata": {},
   "outputs": [
    {
     "data": {
      "text/plain": [
       "5773"
      ]
     },
     "execution_count": 98,
     "metadata": {},
     "output_type": "execute_result"
    }
   ],
   "source": [
    "(g[\"ticker\"].count()).min()"
   ]
  },
  {
   "cell_type": "code",
   "execution_count": 101,
   "id": "78d9b104",
   "metadata": {},
   "outputs": [],
   "source": [
    "#6.Which commodity have the average lowest opening price around 2001 to 2005 \n",
    "g=data.groupby(\"commodity\")"
   ]
  },
  {
   "cell_type": "code",
   "execution_count": 102,
   "id": "d5dc1e93",
   "metadata": {},
   "outputs": [
    {
     "data": {
      "text/plain": [
       "commodity\n",
       "Corn             409.282059\n",
       "KC HRW Wheat     563.985475\n",
       "Oat              278.897021\n",
       "Rough Rice      1143.643069\n",
       "Soybean          997.618605\n",
       "Soybean Oil       36.837337\n",
       "Name: open, dtype: float64"
      ]
     },
     "execution_count": 102,
     "metadata": {},
     "output_type": "execute_result"
    }
   ],
   "source": [
    "g[\"open\"].mean()"
   ]
  },
  {
   "cell_type": "code",
   "execution_count": 104,
   "id": "b8b68404",
   "metadata": {},
   "outputs": [
    {
     "data": {
      "text/plain": [
       "36.8373373422278"
      ]
     },
     "execution_count": 104,
     "metadata": {},
     "output_type": "execute_result"
    }
   ],
   "source": [
    "(g[\"open\"].mean()).min()"
   ]
  },
  {
   "cell_type": "code",
   "execution_count": 105,
   "id": "6dab8ce2",
   "metadata": {},
   "outputs": [],
   "source": [
    "#7.Which commodity have the best average  Market's closing price\n",
    "g=data.groupby(\"commodity\")"
   ]
  },
  {
   "cell_type": "code",
   "execution_count": 106,
   "id": "bdac05ac",
   "metadata": {},
   "outputs": [
    {
     "data": {
      "text/plain": [
       "commodity\n",
       "Corn             409.404772\n",
       "KC HRW Wheat     563.693282\n",
       "Oat              278.657674\n",
       "Rough Rice      1143.607925\n",
       "Soybean          998.015728\n",
       "Soybean Oil       36.820361\n",
       "Name: close, dtype: float64"
      ]
     },
     "execution_count": 106,
     "metadata": {},
     "output_type": "execute_result"
    }
   ],
   "source": [
    "g[\"close\"].mean()"
   ]
  },
  {
   "cell_type": "code",
   "execution_count": 107,
   "id": "0db39e4b",
   "metadata": {},
   "outputs": [
    {
     "data": {
      "text/plain": [
       "1143.607924888165"
      ]
     },
     "execution_count": 107,
     "metadata": {},
     "output_type": "execute_result"
    }
   ],
   "source": [
    "(g[\"close\"].mean()).max()"
   ]
  },
  {
   "cell_type": "code",
   "execution_count": 42,
   "id": "f60b05ca",
   "metadata": {},
   "outputs": [
    {
     "data": {
      "text/html": [
       "<div>\n",
       "<style scoped>\n",
       "    .dataframe tbody tr th:only-of-type {\n",
       "        vertical-align: middle;\n",
       "    }\n",
       "\n",
       "    .dataframe tbody tr th {\n",
       "        vertical-align: top;\n",
       "    }\n",
       "\n",
       "    .dataframe thead th {\n",
       "        text-align: right;\n",
       "    }\n",
       "</style>\n",
       "<table border=\"1\" class=\"dataframe\">\n",
       "  <thead>\n",
       "    <tr style=\"text-align: right;\">\n",
       "      <th></th>\n",
       "      <th>date</th>\n",
       "      <th>high</th>\n",
       "    </tr>\n",
       "  </thead>\n",
       "  <tbody>\n",
       "    <tr>\n",
       "      <th>19437</th>\n",
       "      <td>2008-04-24</td>\n",
       "      <td>2468.5</td>\n",
       "    </tr>\n",
       "  </tbody>\n",
       "</table>\n",
       "</div>"
      ],
      "text/plain": [
       "             date    high\n",
       "19437  2008-04-24  2468.5"
      ]
     },
     "execution_count": 42,
     "metadata": {},
     "output_type": "execute_result"
    }
   ],
   "source": [
    "#8.Which year corn have the highest and lowest Number of contracts traded\n",
    "data.loc[data[\"high\"]==data[\"high\"].max(),[\"date\",\"high\"]]"
   ]
  },
  {
   "cell_type": "code",
   "execution_count": 43,
   "id": "86095497",
   "metadata": {},
   "outputs": [
    {
     "data": {
      "text/html": [
       "<div>\n",
       "<style scoped>\n",
       "    .dataframe tbody tr th:only-of-type {\n",
       "        vertical-align: middle;\n",
       "    }\n",
       "\n",
       "    .dataframe tbody tr th {\n",
       "        vertical-align: top;\n",
       "    }\n",
       "\n",
       "    .dataframe thead th {\n",
       "        text-align: right;\n",
       "    }\n",
       "</style>\n",
       "<table border=\"1\" class=\"dataframe\">\n",
       "  <thead>\n",
       "    <tr style=\"text-align: right;\">\n",
       "      <th></th>\n",
       "      <th>date</th>\n",
       "      <th>low</th>\n",
       "    </tr>\n",
       "  </thead>\n",
       "  <tbody>\n",
       "    <tr>\n",
       "      <th>19436</th>\n",
       "      <td>2008-04-23</td>\n",
       "      <td>2400.0</td>\n",
       "    </tr>\n",
       "  </tbody>\n",
       "</table>\n",
       "</div>"
      ],
      "text/plain": [
       "             date     low\n",
       "19436  2008-04-23  2400.0"
      ]
     },
     "execution_count": 43,
     "metadata": {},
     "output_type": "execute_result"
    }
   ],
   "source": [
    "data.loc[data[\"low\"]==data[\"low\"].max(),[\"date\",\"low\"]]"
   ]
  },
  {
   "cell_type": "code",
   "execution_count": null,
   "id": "6436041d",
   "metadata": {},
   "outputs": [],
   "source": []
  }
 ],
 "metadata": {
  "kernelspec": {
   "display_name": "Python 3 (ipykernel)",
   "language": "python",
   "name": "python3"
  },
  "language_info": {
   "codemirror_mode": {
    "name": "ipython",
    "version": 3
   },
   "file_extension": ".py",
   "mimetype": "text/x-python",
   "name": "python",
   "nbconvert_exporter": "python",
   "pygments_lexer": "ipython3",
   "version": "3.11.3"
  }
 },
 "nbformat": 4,
 "nbformat_minor": 5
}
